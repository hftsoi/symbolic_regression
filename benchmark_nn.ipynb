{
 "cells": [
  {
   "cell_type": "markdown",
   "id": "810945f0",
   "metadata": {},
   "source": [
    "# Benchmark NN"
   ]
  },
  {
   "cell_type": "code",
   "execution_count": null,
   "id": "60e63606",
   "metadata": {},
   "outputs": [],
   "source": [
    "import matplotlib.pyplot as plt\n",
    "from sklearn.model_selection import train_test_split\n",
    "from sklearn.preprocessing import StandardScaler, LabelEncoder\n",
    "from tensorflow.keras.utils import to_categorical\n",
    "from sklearn.metrics import roc_curve, auc, accuracy_score\n",
    "from sklearn.datasets import fetch_openml\n",
    "import tensorflow as tf\n",
    "from keras.layers import *\n",
    "from qkeras import *\n",
    "from qkeras.utils import load_qmodel\n",
    "import hls4ml"
   ]
  },
  {
   "cell_type": "markdown",
   "id": "04bf70f0",
   "metadata": {},
   "source": [
    "## Training data"
   ]
  },
  {
   "cell_type": "code",
   "execution_count": null,
   "id": "c4afad27",
   "metadata": {},
   "outputs": [],
   "source": [
    "data = fetch_openml('hls4ml_lhc_jets_hlf')\n",
    "X, Y = data['data'].to_numpy(), data['target'].to_numpy()\n",
    "\n",
    "print(data['feature_names'])\n",
    "print(X.shape, Y.shape)\n",
    "print(Y[:12])\n",
    "\n",
    "LE = LabelEncoder()\n",
    "Y = LE.fit_transform(Y)\n",
    "print(Y[:12])\n",
    "\n",
    "Y = to_categorical(Y, 5)\n",
    "print(Y[:12])\n",
    "\n",
    "train_ratio = 0.6\n",
    "val_ratio = 0.2\n",
    "test_ratio = 1 - train_ratio - val_ratio\n",
    "\n",
    "X_train_val, X_test, Y_train_val, Y_test = train_test_split(X, Y, test_size = test_ratio, random_state=15)\n",
    "X_train, X_val, Y_train, Y_val = train_test_split(X_train_val, Y_train_val, test_size = val_ratio/(val_ratio+train_ratio), random_state=15)\n",
    "\n",
    "scaler = StandardScaler().fit(X_train_val)\n",
    "del X_train_val\n",
    "X_train = scaler.transform(X_train)\n",
    "X_val = scaler.transform(X_val)\n",
    "X_test = scaler.transform(X_test)\n",
    "\n",
    "print(\"\\nPartition the data set into train/val/test: %.2f/%.2f/%.2f\" % (train_ratio, val_ratio, test_ratio))\n",
    "print(\"X_train.shape: \" + str(X_train.shape))\n",
    "print(\"Y_train.shape: \" + str(Y_train.shape))\n",
    "print(\"X_val.shape: \" + str(X_val.shape))\n",
    "print(\"Y_val.shape: \" + str(Y_val.shape))\n",
    "print(\"X_test.shape: \" + str(X_test.shape))\n",
    "print(\"Y_test.shape: \" + str(Y_test.shape))"
   ]
  },
  {
   "cell_type": "markdown",
   "id": "d523e021",
   "metadata": {},
   "source": [
    "## Set all possible precisions"
   ]
  },
  {
   "cell_type": "code",
   "execution_count": null,
   "id": "01825d4e",
   "metadata": {},
   "outputs": [],
   "source": [
    "# to best match qkeras precision to ap_fixed precision\n",
    "# for ap_fixed<B,I>, where one bit in I is for sign\n",
    "# in qkeras do quantized_relu<B,I> and quantized_bits<B,I-1>\n",
    "# see parser in https://github.com/fastmachinelearning/hls4ml/blob/main/hls4ml/utils/config.py\n",
    "\n",
    "# ap_fixed<B,I>\n",
    "I=[4,5,6,7,8,9,10]\n",
    "B=[]\n",
    "for j in range(len(I)):\n",
    "    B.append([])\n",
    "    # at least 2 fractional bits, and up to 18 total bits\n",
    "    for k in range(I[j]+2,18+1):\n",
    "        B[j].append(k)\n",
    "        \n",
    "print('Precisions ap_fixed<B,I> wanted:')\n",
    "for j in range(len(I)):\n",
    "    print('============================================================')\n",
    "    print('I={}'.format(I[j]))\n",
    "    print('B={}'.format(B[j]))"
   ]
  },
  {
   "cell_type": "markdown",
   "id": "6659eb1d",
   "metadata": {},
   "source": [
    "## Compile and train qkeras models, looping over all precisions"
   ]
  },
  {
   "cell_type": "code",
   "execution_count": null,
   "id": "780ace68",
   "metadata": {
    "scrolled": true
   },
   "outputs": [],
   "source": [
    "# note again for ap_fixed<B,I> do quantized_relu<B,I> and quantized_bits<B,I-1>\n",
    "for j in range(len(I)):\n",
    "    for k in range(len(B[j])):\n",
    "        print('++++++++++++++++++++++++++++++++++++++++++++++++++++++++++++++++++++++++++++++++++++++++++++++++')\n",
    "        print('creating model for ap_fixed<{},{}>'.format(B[j][k],I[j]))\n",
    "        x_in = Input(16, name='in')\n",
    "        x = QDense(64,\n",
    "                  kernel_quantizer=quantized_bits(B[j][k],I[j]-1,alpha=1),\n",
    "                  bias_quantizer=quantized_bits(B[j][k],I[j]-1,alpha=1), name=\"qdense_1\")(x_in)\n",
    "        x = QActivation('quantized_relu({},{})'.format(B[j][k],I[j]), name='qrelu_1')(x)\n",
    "        x = QDense(32,\n",
    "                  kernel_quantizer=quantized_bits(B[j][k],I[j]-1,alpha=1),\n",
    "                  bias_quantizer=quantized_bits(B[j][k],I[j]-1,alpha=1), name=\"qdense_2\")(x)\n",
    "        x = QActivation('quantized_relu({},{})'.format(B[j][k],I[j]), name='qrelu_2')(x)\n",
    "        x = QDense(32,\n",
    "                  kernel_quantizer=quantized_bits(B[j][k],I[j]-1,alpha=1),\n",
    "                  bias_quantizer=quantized_bits(B[j][k],I[j]-1,alpha=1), name=\"qdense_3\")(x)\n",
    "        x = QActivation('quantized_relu({},{})'.format(B[j][k],I[j]), name='qrelu_3')(x)\n",
    "        x = QDense(5,\n",
    "                  kernel_quantizer=quantized_bits(B[j][k],I[j]-1,alpha=1),\n",
    "                  bias_quantizer=quantized_bits(B[j][k],I[j]-1,alpha=1), name=\"qdense_4\")(x)\n",
    "        x = Activation('softmax', name='softmax')(x)\n",
    "\n",
    "        model = tf.keras.models.Model(x_in, x)\n",
    "        #model.summary()\n",
    "        model.compile(optimizer='adam', loss='categorical_crossentropy', metrics='accuracy')\n",
    "        \n",
    "        history = model.fit(X_train, Y_train,\n",
    "                    epochs = 30,\n",
    "                    validation_data = (X_val, Y_val),\n",
    "                    batch_size = 256)\n",
    "        \n",
    "        plt.figure(figsize = (15,10))\n",
    "        axes = plt.subplot(2, 2, 1)\n",
    "        axes.plot(history.history['loss'], label = 'train loss')\n",
    "        axes.plot(history.history['val_loss'], label = 'val loss')\n",
    "        axes.legend(loc = \"upper right\")\n",
    "        axes.set_xlabel('epoch')\n",
    "        axes.set_ylabel('loss')\n",
    "        plt.show()\n",
    "        \n",
    "        Y = model.predict(X_test)\n",
    "        print(\"Accuracy: {}\".format(accuracy_score(np.argmax(Y_test, axis=1), np.argmax(Y, axis=1))))\n",
    "\n",
    "        model.save('model_nn_qat/qkeras_model_ap_fixed_{}-{}'.format(B[j][k],I[j]))\n",
    "        print('done and saved to model_nn_qat/qkeras_model_ap_fixed_{}-{}'.format(B[j][k],I[j]))"
   ]
  },
  {
   "cell_type": "markdown",
   "id": "2c3d9a98",
   "metadata": {},
   "source": [
    "## Convert to hls models, looping over all precisions"
   ]
  },
  {
   "cell_type": "code",
   "execution_count": null,
   "id": "a1cbfe60",
   "metadata": {},
   "outputs": [],
   "source": [
    "tf.get_logger().setLevel('ERROR')\n",
    "for j in range(len(I)):\n",
    "    for k in range(len(B[j])):\n",
    "        print('++++++++++++++++++++++++++++++++++++++++++++++++++++++++++++++++++++++++++++++++++++++++++++++++')\n",
    "        model = load_qmodel('model_nn_qat/qkeras_model_ap_fixed_{}-{}'.format(B[j][k],I[j]))\n",
    "        config = hls4ml.utils.config_from_keras_model(model, granularity='model')\n",
    "        config['Model']['Precision'] = {'accum': 'ap_fixed<18,8>', 'default': 'ap_fixed<{},{}>'.format(B[j][k],I[j])}\n",
    "        hls_model = hls4ml.converters.convert_from_keras_model(model,\n",
    "                                                       hls_config=config,\n",
    "                                                       output_dir='model_nn_qat/hls_model_ap_fixed_{}-{}'.format(B[j][k],I[j]))\n",
    "        hls_model.write()\n",
    "        hls_model.compile()\n",
    "        \n",
    "        Y = model.predict(X_test)\n",
    "        Y_hls = hls_model.predict(X_test)\n",
    "        \n",
    "        print('qkeras accuracy: {}'.format(accuracy_score(np.argmax(Y_test, axis=1), np.argmax(Y, axis=1))))\n",
    "        print('hls accuracy: {}'.format(accuracy_score(np.argmax(Y_test, axis=1), np.argmax(Y_hls, axis=1))))\n",
    "        print('hls model saved to model_nn_qat/hls_model_ap_fixed_{}-{}'.format(B[j][k],I[j]))"
   ]
  },
  {
   "cell_type": "code",
   "execution_count": null,
   "id": "1da90609",
   "metadata": {},
   "outputs": [],
   "source": []
  }
 ],
 "metadata": {
  "kernelspec": {
   "display_name": "Python 3 (ipykernel)",
   "language": "python",
   "name": "python3"
  },
  "language_info": {
   "codemirror_mode": {
    "name": "ipython",
    "version": 3
   },
   "file_extension": ".py",
   "mimetype": "text/x-python",
   "name": "python",
   "nbconvert_exporter": "python",
   "pygments_lexer": "ipython3",
   "version": "3.9.12"
  }
 },
 "nbformat": 4,
 "nbformat_minor": 5
}
