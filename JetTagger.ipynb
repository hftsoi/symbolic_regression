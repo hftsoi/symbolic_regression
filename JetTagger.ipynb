{
 "cells": [
  {
   "cell_type": "code",
   "execution_count": 1,
   "metadata": {},
   "outputs": [],
   "source": [
    "import numpy as np\n",
    "import pandas as pd\n",
    "import tensorflow as tf\n",
    "import matplotlib.pyplot as plt\n",
    "from sklearn.model_selection import train_test_split\n",
    "from sklearn.preprocessing import StandardScaler, LabelEncoder\n",
    "from tensorflow import keras\n",
    "from tensorflow.keras import layers, models\n",
    "from tensorflow.keras.utils import to_categorical\n",
    "from sklearn.metrics import roc_curve, auc, accuracy_score\n",
    "import plotting\n",
    "import joblib\n",
    "\n",
    "from sklearn.datasets import fetch_openml\n",
    "data = fetch_openml('hls4ml_lhc_jets_hlf')\n",
    "X, Y = data['data'].to_numpy(), data['target'].to_numpy()"
   ]
  },
  {
   "cell_type": "code",
   "execution_count": 2,
   "metadata": {},
   "outputs": [
    {
     "name": "stdout",
     "output_type": "stream",
     "text": [
      "['zlogz', 'c1_b0_mmdt', 'c1_b1_mmdt', 'c1_b2_mmdt', 'c2_b1_mmdt', 'c2_b2_mmdt', 'd2_b1_mmdt', 'd2_b2_mmdt', 'd2_a1_b1_mmdt', 'd2_a1_b2_mmdt', 'm2_b1_mmdt', 'm2_b2_mmdt', 'n2_b1_mmdt', 'n2_b2_mmdt', 'mass_mmdt', 'multiplicity']\n",
      "(830000, 16) (830000,)\n",
      "['g' 'w' 't' 'z' 'w' 'w' 't' 'g' 'z' 'g' 't' 'q']\n"
     ]
    }
   ],
   "source": [
    "print(data['feature_names'])\n",
    "print(X.shape, Y.shape)\n",
    "print(Y[:12])"
   ]
  },
  {
   "cell_type": "code",
   "execution_count": 3,
   "metadata": {},
   "outputs": [
    {
     "data": {
      "text/plain": [
       "array([0, 3, 2, 4, 3, 3, 2, 0, 4, 0, 2, 1])"
      ]
     },
     "execution_count": 3,
     "metadata": {},
     "output_type": "execute_result"
    }
   ],
   "source": [
    "LE = LabelEncoder()\n",
    "Y = LE.fit_transform(Y)\n",
    "Y[:12]"
   ]
  },
  {
   "cell_type": "code",
   "execution_count": 4,
   "metadata": {},
   "outputs": [
    {
     "data": {
      "text/plain": [
       "array([[1., 0., 0., 0., 0.],\n",
       "       [0., 0., 0., 1., 0.],\n",
       "       [0., 0., 1., 0., 0.],\n",
       "       [0., 0., 0., 0., 1.],\n",
       "       [0., 0., 0., 1., 0.],\n",
       "       [0., 0., 0., 1., 0.],\n",
       "       [0., 0., 1., 0., 0.],\n",
       "       [1., 0., 0., 0., 0.],\n",
       "       [0., 0., 0., 0., 1.],\n",
       "       [1., 0., 0., 0., 0.],\n",
       "       [0., 0., 1., 0., 0.],\n",
       "       [0., 1., 0., 0., 0.]], dtype=float32)"
      ]
     },
     "execution_count": 4,
     "metadata": {},
     "output_type": "execute_result"
    }
   ],
   "source": [
    "Y = to_categorical(Y, 5)\n",
    "Y[:12]"
   ]
  },
  {
   "cell_type": "code",
   "execution_count": 5,
   "metadata": {},
   "outputs": [
    {
     "data": {
      "text/plain": [
       "array([[ 1., -1., -1., -1., -1.],\n",
       "       [-1., -1., -1.,  1., -1.],\n",
       "       [-1., -1.,  1., -1., -1.],\n",
       "       [-1., -1., -1., -1.,  1.],\n",
       "       [-1., -1., -1.,  1., -1.],\n",
       "       [-1., -1., -1.,  1., -1.],\n",
       "       [-1., -1.,  1., -1., -1.],\n",
       "       [ 1., -1., -1., -1., -1.],\n",
       "       [-1., -1., -1., -1.,  1.],\n",
       "       [ 1., -1., -1., -1., -1.],\n",
       "       [-1., -1.,  1., -1., -1.],\n",
       "       [-1.,  1., -1., -1., -1.]], dtype=float32)"
      ]
     },
     "execution_count": 5,
     "metadata": {},
     "output_type": "execute_result"
    }
   ],
   "source": [
    "Y=2*Y-1\n",
    "Y[:12]"
   ]
  },
  {
   "cell_type": "code",
   "execution_count": 6,
   "metadata": {},
   "outputs": [
    {
     "name": "stdout",
     "output_type": "stream",
     "text": [
      "\n",
      "Partition the data set into train/val/test: 0.60/0.39/0.01\n",
      "X_train.shape: (497999, 16)\n",
      "Y_train.shape: (497999, 5)\n",
      "X_val.shape: (325360, 16)\n",
      "Y_val.shape: (325360, 5)\n",
      "X_test.shape: (6641, 16)\n",
      "Y_test.shape: (6641, 5)\n"
     ]
    }
   ],
   "source": [
    "train_ratio = 0.6\n",
    "val_ratio = 0.392\n",
    "test_ratio = 1 - train_ratio - val_ratio\n",
    "\n",
    "# randomly partition data set into train/val/test sets with given ratios\n",
    "X_train_val, X_test, Y_train_val, Y_test = train_test_split(X, Y, test_size = test_ratio, random_state=15)\n",
    "X_train, X_val, Y_train, Y_val = train_test_split(X_train_val, Y_train_val, test_size = val_ratio/(val_ratio+train_ratio), random_state=15)\n",
    "\n",
    "# standardize feature variables\n",
    "scaler = StandardScaler().fit(X_train_val)\n",
    "del X_train_val\n",
    "X_train = scaler.transform(X_train)\n",
    "X_val = scaler.transform(X_val)\n",
    "X_test = scaler.transform(X_test)\n",
    "\n",
    "# print input data shapes\n",
    "print(\"\\nPartition the data set into train/val/test: %.2f/%.2f/%.2f\" % (train_ratio, val_ratio, test_ratio))\n",
    "print(\"X_train.shape: \" + str(X_train.shape))\n",
    "print(\"Y_train.shape: \" + str(Y_train.shape))\n",
    "print(\"X_val.shape: \" + str(X_val.shape))\n",
    "print(\"Y_val.shape: \" + str(Y_val.shape))\n",
    "print(\"X_test.shape: \" + str(X_test.shape))\n",
    "print(\"Y_test.shape: \" + str(Y_test.shape))"
   ]
  },
  {
   "cell_type": "code",
   "execution_count": null,
   "metadata": {},
   "outputs": [],
   "source": [
    "model = tf.keras.Sequential()\n",
    "model.add(layers.InputLayer(input_shape = (16,), name = 'input'))\n",
    "model.add(layers.Dense(64, name = 'fc1'))\n",
    "model.add(layers.Activation('relu', name = 'relu1'))\n",
    "model.add(layers.Dense(32, name = 'fc2'))\n",
    "model.add(layers.Activation('relu', name = 'relu2'))\n",
    "model.add(layers.Dense(32, name = 'fc3'))\n",
    "model.add(layers.Activation('relu', name = 'relu3'))\n",
    "model.add(layers.Dense(5 , name = 'output'))\n",
    "model.add(layers.Activation('softmax', name = 'softmax'))\n",
    "model.summary()\n",
    "model.compile(optimizer = 'adam', loss = 'categorical_crossentropy', metrics = 'accuracy')"
   ]
  },
  {
   "cell_type": "code",
   "execution_count": null,
   "metadata": {
    "scrolled": true
   },
   "outputs": [],
   "source": [
    "history = model.fit(X_train, Y_train,\n",
    "                    epochs = 20,\n",
    "                    validation_data = (X_val, Y_val),\n",
    "                    batch_size = 1024,\n",
    "                    callbacks = [\n",
    "                        tf.keras.callbacks.EarlyStopping(monitor = \"val_loss\", patience = 10, mode = \"min\")\n",
    "                    ])"
   ]
  },
  {
   "cell_type": "code",
   "execution_count": null,
   "metadata": {},
   "outputs": [],
   "source": [
    "plt.figure(figsize = (15,10))\n",
    "axes = plt.subplot(2, 2, 1)\n",
    "axes.plot(history.history['loss'], label = 'train loss')\n",
    "#axes.set_yscale(value = \"log\")\n",
    "axes.plot(history.history['val_loss'], label = 'val loss')\n",
    "axes.legend(loc = \"upper right\")\n",
    "axes.set_xlabel('Epoch')\n",
    "axes.set_ylabel('Loss')"
   ]
  },
  {
   "cell_type": "code",
   "execution_count": null,
   "metadata": {},
   "outputs": [],
   "source": [
    "model.save('model')"
   ]
  },
  {
   "cell_type": "code",
   "execution_count": null,
   "metadata": {},
   "outputs": [],
   "source": [
    "model = tf.keras.models.load_model('model')\n",
    "model.summary()"
   ]
  },
  {
   "cell_type": "code",
   "execution_count": null,
   "metadata": {},
   "outputs": [],
   "source": [
    "Y_pred = model.predict(X_test)\n",
    "print(\"Accuracy: {}\".format(accuracy_score(np.argmax(Y_test, axis=1), np.argmax(Y_pred, axis=1))))"
   ]
  },
  {
   "cell_type": "code",
   "execution_count": null,
   "metadata": {},
   "outputs": [],
   "source": [
    "def plot_roc(y_test, y_pred, labels):\n",
    "    for x, label in enumerate(labels):        \n",
    "        fpr, tpr, _ = roc_curve(y_test[:, x], y_pred[:, x])\n",
    "        plt.plot(fpr, tpr, label='{0} tagger, AUC = {1:.1f}'.format(label, auc(fpr, tpr)*100.), linestyle='-')\n",
    "    #plt.semilogy()\n",
    "    plt.ylabel(\"Signal Efficiency\")\n",
    "    plt.xlabel(\"Background Efficiency\")\n",
    "    #plt.ylim(0.001, 1)\n",
    "    plt.grid(True)\n",
    "    plt.legend(loc='best')  \n",
    "    \n",
    "plt.figure(figsize=(6, 6))\n",
    "plot_roc(Y_test, Y_pred, LE.classes_)"
   ]
  },
  {
   "cell_type": "code",
   "execution_count": null,
   "metadata": {},
   "outputs": [],
   "source": [
    "LE.classes_"
   ]
  },
  {
   "cell_type": "code",
   "execution_count": null,
   "metadata": {},
   "outputs": [],
   "source": [
    "Y_pred.shape"
   ]
  },
  {
   "cell_type": "code",
   "execution_count": null,
   "metadata": {},
   "outputs": [],
   "source": [
    "@@@"
   ]
  },
  {
   "cell_type": "code",
   "execution_count": null,
   "metadata": {},
   "outputs": [],
   "source": [
    "from sklearn.decomposition import PCA"
   ]
  },
  {
   "cell_type": "code",
   "execution_count": null,
   "metadata": {},
   "outputs": [],
   "source": [
    "pca = PCA(n_components=6)\n",
    "pca.fit(X_test)\n",
    "X_test = pca.transform(X_test)\n",
    "X_test.shape"
   ]
  },
  {
   "cell_type": "code",
   "execution_count": 7,
   "metadata": {},
   "outputs": [
    {
     "name": "stdout",
     "output_type": "stream",
     "text": [
      "Checking if hall_of_fame_2022-10-12_010432.685.pkl exists...\n",
      "Loading model from hall_of_fame_2022-10-12_010432.685.pkl\n"
     ]
    }
   ],
   "source": [
    "from pysr import PySRRegressor\n",
    "model_pysr = PySRRegressor.from_file(\"hall_of_fame_2022-10-12_010432.685.pkl\")"
   ]
  },
  {
   "cell_type": "code",
   "execution_count": null,
   "metadata": {},
   "outputs": [],
   "source": [
    "from pysr import PySRRegressor\n",
    "\n",
    "model_pysr = PySRRegressor(\n",
    "    model_selection=\"accuracy\",\n",
    "    niterations=40,\n",
    "    timeout_in_seconds=60*60*5,\n",
    "    maxsize=40,\n",
    "    select_k_features=6,\n",
    "    binary_operators=[\"+\", \"-\", \"*\"],\n",
    "    unary_operators=[\n",
    "        \"sin\",\n",
    "        \"cos\",\n",
    "        \"exp\",\n",
    "        \"square\",\n",
    "        \"cube\"\n",
    "    ],\n",
    "    #loss=\"loss(x, y) = (x - y)^2\"\n",
    "    loss=\"L2MarginLoss()\" # (1 - y * y')^2\n",
    "    #loss=\"loss(x, y) = (1 - x * y)^8\"\n",
    ")"
   ]
  },
  {
   "cell_type": "code",
   "execution_count": null,
   "metadata": {},
   "outputs": [],
   "source": [
    "model_pysr.fit(X_test, Y_test)"
   ]
  },
  {
   "cell_type": "code",
   "execution_count": 8,
   "metadata": {
    "scrolled": true
   },
   "outputs": [
    {
     "name": "stdout",
     "output_type": "stream",
     "text": [
      "PySRRegressor.equations_ = [\n",
      "[\n",
      "\t    pick         score                                           equation  \\\n",
      "\t0         0.000000e+00                                         -0.5961421   \n",
      "\t1         2.802959e-02                               sin(x15 - 1.0025682)   \n",
      "\t2         5.548019e-02                         sin(sin(x15) + -0.7922725)   \n",
      "\t3         3.374547e-01                       sin((x15 - x2) + -0.9439041)   \n",
      "\t4         1.483364e-03                 sin((x15 - sin(x2)) + -0.97032344)   \n",
      "\t5         5.514391e-02         cos((3.8239746 - (x2 * 0.76815206)) + x15)   \n",
      "\t6         9.374956e-03  sin(((x15 - x2) - (x14 * -0.2699054)) + -0.874...   \n",
      "\t7         1.450878e-02  sin(((-0.5667273 - ((x14 + x15) * -0.5667273))...   \n",
      "\t8         1.565929e-02  sin(sin((-0.5667273 - ((x14 + x15) * -0.566727...   \n",
      "\t9         2.025300e-03  sin(sin((-0.5667273 - ((x14 + x15) * sin(-0.56...   \n",
      "\t10        1.322615e-02  sin(sin((-0.9503819 - (((x14 + 0.83946085) + x...   \n",
      "\t11        9.294743e-04  sin(sin(sin((-0.9358786 - (((x14 + 0.8273594) ...   \n",
      "\t12        1.331178e-03  sin(sin((-0.9358786 - (((x14 + cos(cube(cos(x3...   \n",
      "\t13        1.608411e-03  sin(sin((-0.9358786 - (((x14 + sin(exp(cube(co...   \n",
      "\t14        1.935044e-04  sin(sin((-0.87982625 - (((x14 + cos(cube(cos(x...   \n",
      "\t15        4.274342e-03  sin(sin((-0.9358786 - (((x14 + sin(cos(square(...   \n",
      "\t16        1.377470e-02  sin(sin((-0.6078273 - (((x14 + ((cube(-0.60782...   \n",
      "\t17        3.003287e-03  sin(sin((sin(-0.6078273) - (((x14 + ((cube(-0....   \n",
      "\t18        2.343811e-03  sin(sin(sin((sin(-0.6078273) - (((x14 + ((cube...   \n",
      "\t19        5.880057e-04  sin(sin(sin((sin(-0.6078273) - (((x14 + sin((c...   \n",
      "\t20        2.143321e-03  sin(sin(sin((sin(sin(-0.6078273)) - (((x14 + s...   \n",
      "\t21        1.400841e-03  sin(sin(sin((-0.79229045 - (((x14 + (((x14 + s...   \n",
      "\t22        8.885074e-08  sin(sin(sin((-0.79229045 - (((x14 + (((x14 + s...   \n",
      "\t23        3.116671e-04  sin(sin(sin((-0.79229045 - (((x14 + ((cos(cube...   \n",
      "\t24        1.381374e-03  sin(sin(sin((-0.79229045 - (((x14 + ((cos(cube...   \n",
      "\t25        8.612235e-04  sin(sin(sin((-0.79229045 - (((x14 + ((cos(cube...   \n",
      "\t26        9.651973e-04  sin(sin(sin((-0.79229045 - (((x14 + ((cos(cube...   \n",
      "\t27  >>>>  4.795431e-03  sin(sin(sin((-0.79229045 - (((x14 + ((cos(squa...   \n",
      "\t\n",
      "\t        loss  complexity  \n",
      "\t0   0.644611           1  \n",
      "\t1   0.592623           4  \n",
      "\t2   0.560639           5  \n",
      "\t3   0.400063           6  \n",
      "\t4   0.399470           7  \n",
      "\t5   0.378038           8  \n",
      "\t6   0.371016          10  \n",
      "\t7   0.360405          12  \n",
      "\t8   0.354805          13  \n",
      "\t9   0.354087          14  \n",
      "\t10  0.349435          15  \n",
      "\t11  0.349110          16  \n",
      "\t12  0.348182          18  \n",
      "\t13  0.347623          19  \n",
      "\t14  0.347555          20  \n",
      "\t15  0.346073          21  \n",
      "\t16  0.341339          22  \n",
      "\t17  0.340315          23  \n",
      "\t18  0.339518          24  \n",
      "\t19  0.339319          25  \n",
      "\t20  0.338592          26  \n",
      "\t21  0.337645          28  \n",
      "\t22  0.337645          29  \n",
      "\t23  0.337435          31  \n",
      "\t24  0.336504          33  \n",
      "\t25  0.336214          34  \n",
      "\t26  0.335242          37  \n",
      "\t27  0.333638          38  \n",
      "], [\n",
      "\t    pick     score                                           equation  \\\n",
      "\t0         0.000000                                        -0.61361176   \n",
      "\t1         0.044618                              sin(-1.0123404 - x14)   \n",
      "\t2         0.129527                         sin(-0.9947246 - sin(x14))   \n",
      "\t3         0.001166          sin((sin(x14) * -1.0964463) + -1.0567474)   \n",
      "\t4         0.000625        cube(sin(-1.034878 - sin(x14 + 0.4144136)))   \n",
      "\t5         0.049301  sin(-1.0175593 - (sin(x14) - (x15 * -0.1744108...   \n",
      "\t6         0.059144  sin(((sin(x15) - 0.7087698) * sin(x14)) - 1.07...   \n",
      "\t7         0.010932  sin(((sin(x15) - 0.8267241) * sin(sin(x14))) -...   \n",
      "\t8         0.013957  sin(((sin(x15) - 0.7372994) * sin(x14 * 1.6920...   \n",
      "\t9         0.004980  sin(((sin(x15) - 0.7613226) * sin(sin(x14) + x...   \n",
      "\t10        0.000013  sin(((sin(x15) - sin(0.82666534)) * sin(sin(x1...   \n",
      "\t11        0.000083  sin(((sin(x15) - cos(cos(0.7613226))) * sin(si...   \n",
      "\t12        0.001819  sin((-0.92132455 - sin(cube(sin(square(x4))) -...   \n",
      "\t13        0.002543  sin((-0.92132455 - sin(sin(cube(sin(square(x4)...   \n",
      "\t14        0.000500  sin((-0.92132455 - sin(sin(sin(cube(sin(square...   \n",
      "\t15        0.000337  sin((-0.92132455 - sin(sin(sin(cube(sin(square...   \n",
      "\t16        0.000292  sin((-0.92132455 - sin((0.9987689 - ((x15 + -0...   \n",
      "\t17        0.001176  sin((-0.92132455 - sin((0.9987689 - ((x15 + -0...   \n",
      "\t18        0.002300  sin((-0.77575606 - sin(0.999816 - ((x15 + -0.8...   \n",
      "\t19        0.002446  sin((-0.8879124 - sin((0.9987689 - ((x15 + -0....   \n",
      "\t20        0.003046  sin((-0.9533578 - sin((0.9987689 - ((x15 + -0....   \n",
      "\t21        0.000850  sin((-0.9533578 - sin((0.9987689 - ((x15 + -0....   \n",
      "\t22        0.001088  sin((-0.9533578 - sin((0.9987689 - ((x15 + -0....   \n",
      "\t23        0.000072  sin((-0.9533578 - sin((0.9987689 - ((x15 + -0....   \n",
      "\t24        0.000887  sin((-0.9533578 - sin((0.9987689 - ((x15 + -0....   \n",
      "\t25        0.000541  sin((-0.9533578 - sin((0.9987689 - ((x15 + -0....   \n",
      "\t26        0.000091  sin((-0.9533578 - sin((cube(0.9987689) - ((x15...   \n",
      "\t27        0.000129  sin((-0.9533578 - sin((cube(0.9987689) - ((x15...   \n",
      "\t28        0.000637  sin((-0.9533578 - sin((0.9987689 - ((x15 + -0....   \n",
      "\t29        0.000168  sin((-0.9533578 - sin((0.9987689 - ((x15 + -0....   \n",
      "\t30  >>>>  0.000375  sin((-0.9533578 - sin((0.9987689 - ((x15 + -0....   \n",
      "\t\n",
      "\t        loss  complexity  \n",
      "\t0   0.623480           1  \n",
      "\t1   0.545368           4  \n",
      "\t2   0.479112           5  \n",
      "\t3   0.477996           7  \n",
      "\t4   0.477698           8  \n",
      "\t5   0.454718           9  \n",
      "\t6   0.428604          10  \n",
      "\t7   0.423944          11  \n",
      "\t8   0.418068          12  \n",
      "\t9   0.415991          13  \n",
      "\t10  0.415986          14  \n",
      "\t11  0.415951          15  \n",
      "\t12  0.415196          16  \n",
      "\t13  0.414141          17  \n",
      "\t14  0.413934          18  \n",
      "\t15  0.413655          20  \n",
      "\t16  0.413293          23  \n",
      "\t17  0.412807          24  \n",
      "\t18  0.411859          25  \n",
      "\t19  0.410853          26  \n",
      "\t20  0.409604          27  \n",
      "\t21  0.409255          28  \n",
      "\t22  0.408810          29  \n",
      "\t23  0.408781          30  \n",
      "\t24  0.408418          31  \n",
      "\t25  0.408198          32  \n",
      "\t26  0.408160          33  \n",
      "\t27  0.408108          34  \n",
      "\t28  0.407328          37  \n",
      "\t29  0.407192          39  \n",
      "\t30  0.407039          40  \n",
      "], [\n",
      "\t    pick     score                                           equation  \\\n",
      "\t0         0.000000                                         -0.6051803   \n",
      "\t1         0.095376                                            sin(x3)   \n",
      "\t2         0.006306                                   (x3 - 0.5969746)   \n",
      "\t3         0.534899                                sin(x3 - 0.7978827)   \n",
      "\t4         0.004248                            sin(x3 - cos(cos(x15)))   \n",
      "\t5         0.012828                       sin(x3 - cos(sin(exp(x15))))   \n",
      "\t6         0.040064                 cos(2.3259661 - ((x3 - x14) + x2))   \n",
      "\t7         0.013908            cos((2.1216075 - (x3 - x14)) - sin(x3))   \n",
      "\t8         0.000162           cos((2.11495 - sin(x3 - x14)) - sin(x3))   \n",
      "\t9         0.023765  cos((2.1479568 - (x3 - x14)) - (sin(x3) * 1.19...   \n",
      "\t10        0.008813  cos((2.1153207 - (x3 - x14)) - sin(sin(x3) * 1...   \n",
      "\t11        0.007039  cos((2.0590909 - (x3 - x14)) - (sin(x3) * exp(...   \n",
      "\t12        0.005981  cos((((sin(x15 + x14) * -0.33955464) + 2.14795...   \n",
      "\t13        0.008482  cos((((sin(x15 + sin(x2)) * -0.33955464) + 2.1...   \n",
      "\t14        0.013257  cos((((sin((x15 + x3) - sin(x11)) * -0.4485576...   \n",
      "\t15        0.007038  cos((((sin((x15 + x14) - sin(x11)) * -0.524677...   \n",
      "\t16        0.005066  cos((2.2753532 - sin(((x3 - (x14 - -0.09856053...   \n",
      "\t17        0.014488  cos((2.2397704 - sin(((x3 - (x14 - -0.21790504...   \n",
      "\t18        0.000091  cos((2.2753532 - sin(sin((x3 - (x14 - -0.09856...   \n",
      "\t19        0.001670  cos((2.2753532 - sin(sin(sin((x3 - (x14 - -0.0...   \n",
      "\t20        0.007648  cos((2.2434006 - sin(sin(sin((x3 - (x14 - -0.1...   \n",
      "\t21        0.003095  cos((2.2434006 - sin(sin(sin(sin((x3 - (x14 - ...   \n",
      "\t22        0.001350  cos((2.2397704 - sin(sin(sin(sin(sin((x3 - (x1...   \n",
      "\t23        0.001088  cos((2.2397704 - sin(sin(sin(sin(sin((x3 - (x1...   \n",
      "\t24        0.005272  cos((2.2397704 - (sin(sin(sin(sin((x3 - (x14 -...   \n",
      "\t25        0.001862  cos((2.2397704 - (sin(sin(sin(sin(sin((x3 - (x...   \n",
      "\t26        0.001001  cos((2.2397704 - (sin(sin(sin(sin(sin(sin((x3 ...   \n",
      "\t27        0.000445  cos((2.2397704 - (sin(sin(sin(sin((x3 - (x14 -...   \n",
      "\t28        0.000845  cos((2.2397704 - (sin(sin(sin((x3 - (x14 - -0....   \n",
      "\t29  >>>>  0.001372  cos((2.2397704 - (sin(sin(sin((x3 - (x14 - -0....   \n",
      "\t\n",
      "\t        loss  complexity  \n",
      "\t0   0.633757           1  \n",
      "\t1   0.576105           2  \n",
      "\t2   0.572483           3  \n",
      "\t3   0.335320           4  \n",
      "\t4   0.332483           6  \n",
      "\t5   0.328245           7  \n",
      "\t6   0.315354           8  \n",
      "\t7   0.310998           9  \n",
      "\t8   0.310948          10  \n",
      "\t9   0.303646          11  \n",
      "\t10  0.300981          12  \n",
      "\t11  0.296774          14  \n",
      "\t12  0.293245          16  \n",
      "\t13  0.290768          17  \n",
      "\t14  0.283160          19  \n",
      "\t15  0.281174          20  \n",
      "\t16  0.276933          23  \n",
      "\t17  0.272949          24  \n",
      "\t18  0.272924          25  \n",
      "\t19  0.272469          26  \n",
      "\t20  0.270393          27  \n",
      "\t21  0.269557          28  \n",
      "\t22  0.269194          29  \n",
      "\t23  0.268901          30  \n",
      "\t24  0.267487          31  \n",
      "\t25  0.266990          32  \n",
      "\t26  0.266723          33  \n",
      "\t27  0.266366          36  \n",
      "\t28  0.265916          38  \n",
      "\t29  0.265552          39  \n",
      "], [\n",
      "\t    pick     score                                           equation  \\\n",
      "\t0         0.000000                                         -0.5976532   \n",
      "\t1         0.022926                            (cos(x14) + -1.1718286)   \n",
      "\t2         0.064637                         sin(cos(x14) + -1.2408255)   \n",
      "\t3         0.136121                (cube(cube(cos(x14))) + -0.9309618)   \n",
      "\t4         0.146762          (cube(cube(cube(cos(x14)))) + -0.8333879)   \n",
      "\t5         0.031018  (cube(cube(cube(square(cos(x14))))) + -0.7953646)   \n",
      "\t6         0.052352  (cube(cube(cube(cube(cos(x14))) - -0.06293376)...   \n",
      "\t7         0.015833  sin((square(cube(square(cube(cos(x14))))) * 2....   \n",
      "\t8         0.101597  ((cube(cube(cube(cube(cos(x14))))) * (1.636837...   \n",
      "\t9         0.058628  sin((cube(cube(square(cube(cos(x14))))) * (1.8...   \n",
      "\t10        0.007112  sin(sin((square(cube(cube(cube(cos(x14))))) * ...   \n",
      "\t11        0.021821  sin((cube(cube(cube(cube(cos(x14 - 0.03381988)...   \n",
      "\t12        0.011486  sin((cube(cube(cube(cube(cos(x14 - (x3 * -0.30...   \n",
      "\t13        0.029298  sin((square(cube(cube(square(cube(cos(x14 - (x...   \n",
      "\t14        0.006468  sin((square(cube(square(cube(cube(cos(x14 - (s...   \n",
      "\t15        0.000706  sin((square(cube(square(cube(cube(cos(x14 - (s...   \n",
      "\t16        0.000516  sin((square(cube(square(cube(cube(cos(x14 - (s...   \n",
      "\t17        0.008999  sin((cube(cube(square(square(cube(cos(x14 - (x...   \n",
      "\t18        0.010715  sin((cube(cube(square(square(cube(cos(x14 - (s...   \n",
      "\t19        0.001752  sin((cube(cube(square(square(cube(cos(x14 - (s...   \n",
      "\t20        0.002702  sin((cube(cube(cube(square(square(cos(x14 - si...   \n",
      "\t21        0.001135  sin((cube(cube(cube(square(square(cos(sin(x14 ...   \n",
      "\t22        0.014932  sin((cube(square(cube(square(square(cos(sin(x1...   \n",
      "\t23        0.005719  sin((square(cube(square(square(square(square(c...   \n",
      "\t24        0.001151  sin((square(cube(cube(cube(square(cos(x14 - (s...   \n",
      "\t25        0.001188  sin((square(cube(cube(cube(square(cos(x14 - (s...   \n",
      "\t26        0.006682  sin((square(cube(cube(cube(square(cos(x14 - (s...   \n",
      "\t27        0.003662  sin((sin(cube(cube(square(square(cube(cos(sin(...   \n",
      "\t28  >>>>  0.010256  sin((sin(cube(cube(square(square(cube(cos(x14 ...   \n",
      "\t\n",
      "\t        loss  complexity  \n",
      "\t0   0.642813           1  \n",
      "\t1   0.600088           4  \n",
      "\t2   0.562527           5  \n",
      "\t3   0.490938           6  \n",
      "\t4   0.423925           7  \n",
      "\t5   0.410977           8  \n",
      "\t6   0.370123          10  \n",
      "\t7   0.364309          11  \n",
      "\t8   0.329114          12  \n",
      "\t9   0.310373          13  \n",
      "\t10  0.308174          14  \n",
      "\t11  0.301522          15  \n",
      "\t12  0.294675          17  \n",
      "\t13  0.286167          18  \n",
      "\t14  0.284322          19  \n",
      "\t15  0.284121          20  \n",
      "\t16  0.283974          21  \n",
      "\t17  0.281430          22  \n",
      "\t18  0.278431          23  \n",
      "\t19  0.277457          25  \n",
      "\t20  0.275217          28  \n",
      "\t21  0.274905          29  \n",
      "\t22  0.270831          30  \n",
      "\t23  0.269286          31  \n",
      "\t24  0.268976          32  \n",
      "\t25  0.268657          33  \n",
      "\t26  0.266868          34  \n",
      "\t27  0.263952          37  \n",
      "\t28  0.261259          38  \n",
      "], [\n",
      "\t    pick     score                                           equation  \\\n",
      "\t0         0.000000                                         -0.5873204   \n",
      "\t1         0.021938                             cos(exp(cos(cos(x3))))   \n",
      "\t2         0.117373                       cos(exp(cos(cube(cos(x3)))))   \n",
      "\t3         0.077351                 cos(exp(cos(cube(cube(cos(x3))))))   \n",
      "\t4         0.043925           cos(exp(cos(cube(cube(cube(cos(x3)))))))   \n",
      "\t5         0.101303     cos(exp(cube(cos(cube(cube(cube(cos(x3))))))))   \n",
      "\t6         0.126246  cos(exp(cube(cos(cube(cube(square(cube(cos(x3)...   \n",
      "\t7         0.033556  cos(exp(cube(square(cos(cube(cube(cube(cube(co...   \n",
      "\t8         0.112314  cos(exp(cube(cos(cube(cube(cube(cube(cos(x14 +...   \n",
      "\t9         0.077053  cos(exp(exp(square(sin(sin(cube(cube(cube(cos(...   \n",
      "\t10        0.023691  cos(exp(cos(cube(cube(cube(cube(square(cos(x14...   \n",
      "\t11        0.003755  cos(exp(cos(cube(cube(square(cube(cube(cos(x14...   \n",
      "\t12        0.046330  cos(exp(cos(cube(square(cube(cube(cube(cos(x14...   \n",
      "\t13        0.022825  cos(exp(cos(square(sin(cube(cube(cube(cube(cos...   \n",
      "\t14        0.004763  cos(exp(cos(cube(square(cube(cube(cube(cos(0.1...   \n",
      "\t15        0.000011  cos(exp(cos(cube(square(cube(cube(cube(cos(sin...   \n",
      "\t16        0.004261  cos(exp(cos(square(cube(cube(cube(cube(cos(0.1...   \n",
      "\t17        0.006312  cos(exp(cos((cube(cube(square(square(square(co...   \n",
      "\t18        0.014176  cos(exp(cos((square(cube(square(cube(cube(cos(...   \n",
      "\t19        0.003822  cos(exp(cos((square(cube(cube(square(cube(cos(...   \n",
      "\t20        0.013552  cos(exp(cos((cube(square(square(cube(cube(cos(...   \n",
      "\t21        0.005491  cos(exp(cos((cube(square(square(cube(square(co...   \n",
      "\t22        0.000046  cos(exp(cos((cube(square(square(cube(square(co...   \n",
      "\t23        0.012159  cos(exp(cos((cube(square(cube(square(cube(cos(...   \n",
      "\t24        0.019858  cos(exp(cos((cube(square(square(cube(square(co...   \n",
      "\t25        0.000195  cos(exp(cos((cube(square(square(cube(square(co...   \n",
      "\t26        0.000726  cos(exp(cos((cube(square(square(cube(square(co...   \n",
      "\t27        0.006916  cos(exp(cos((cube(square(cube(square(square(co...   \n",
      "\t28  >>>>  0.002305  cos(exp(cos((square(square(cube(cube(square(sq...   \n",
      "\t\n",
      "\t        loss  complexity  \n",
      "\t0   0.654948           1  \n",
      "\t1   0.599923           5  \n",
      "\t2   0.533484           6  \n",
      "\t3   0.493774           7  \n",
      "\t4   0.472555           8  \n",
      "\t5   0.427029           9  \n",
      "\t6   0.376382          10  \n",
      "\t7   0.363962          11  \n",
      "\t8   0.325296          12  \n",
      "\t9   0.301172          13  \n",
      "\t10  0.294121          14  \n",
      "\t11  0.293019          15  \n",
      "\t12  0.279753          16  \n",
      "\t13  0.273440          17  \n",
      "\t14  0.272140          18  \n",
      "\t15  0.272137          19  \n",
      "\t16  0.270980          20  \n",
      "\t17  0.269275          21  \n",
      "\t18  0.265485          22  \n",
      "\t19  0.264472          23  \n",
      "\t20  0.260912          24  \n",
      "\t21  0.259484          25  \n",
      "\t22  0.259472          26  \n",
      "\t23  0.256336          27  \n",
      "\t24  0.251296          28  \n",
      "\t25  0.251198          30  \n",
      "\t26  0.251016          31  \n",
      "\t27  0.249285          32  \n",
      "\t28  0.246997          36  \n",
      "]]\n"
     ]
    }
   ],
   "source": [
    "print(model_pysr)"
   ]
  },
  {
   "cell_type": "code",
   "execution_count": 17,
   "metadata": {},
   "outputs": [
    {
     "name": "stdout",
     "output_type": "stream",
     "text": [
      "Tagger 0 = sin(2.483543*sin(sin(0.67945530451464*x14 + 0.4277928*x15 - x2 + 0.25166250451464*cos((cos(x14**4)**3 - 0.34814203)**2) + 0.25166250451464*cos(exp(1.89585760043374*x14))**2 - 0.79229045)))\n",
      "------------------------------------------\n",
      "Tagger 1 = -sin(sin(((x15 - 0.81150883)*sin(0.0568290853525509*x11**3 - sin(1.2576073*x14) + sin(exp(-sin(0.6552834*x11**2)))) + 0.9987689)*cos(sin(cos(x14)))**2) + sin(sin(2*x14)) + 0.9533578)\n",
      "------------------------------------------\n",
      "Tagger 2 = cos(1.2143873*sin((x2 + exp(2*cos(1.2848912*x14)**3) - sin(exp(cos(0.21833353*x14)**3)))*sin(sin(-x14 + x3 + 0.25042366))) + sin(sin(sin(sin(x3)))) - 2.2397704)\n",
      "------------------------------------------\n",
      "Tagger 3 = sin((-x15 + exp(-sin(sin(x3 - cos(x2 + 2.65310114714028*exp(sin(9.75160815829225*(-0.320229899449413*x3 - 1)**2)))))))*sin(cos(x14 + 0.28912926*sin(sin(x3)))**108 + 0.07835032) - 7.396321)\n",
      "------------------------------------------\n",
      "Tagger 4 = cos(exp(cos((-0.6879885*x15 + exp(-x3 + sin((-x3 + cos(x3)**18)**18)))*(cos(x14 - 0.30189051)**144 + 0.1342474))))\n",
      "------------------------------------------\n"
     ]
    }
   ],
   "source": [
    "for i in range(5):\n",
    "    print(\"Tagger {} = \".format(i)+str(model_pysr.sympy()[i])+\"\\n------------------------------------------\")"
   ]
  },
  {
   "cell_type": "code",
   "execution_count": 10,
   "metadata": {},
   "outputs": [],
   "source": [
    "Y_pysr=model_pysr.predict(X_test)"
   ]
  },
  {
   "cell_type": "code",
   "execution_count": 11,
   "metadata": {},
   "outputs": [
    {
     "name": "stdout",
     "output_type": "stream",
     "text": [
      "Accuracy: 0.744165035386237\n"
     ]
    }
   ],
   "source": [
    "print(\"Accuracy: {}\".format(accuracy_score(np.argmax(Y_test, axis=1), np.argmax(Y_pysr, axis=1))))"
   ]
  },
  {
   "cell_type": "code",
   "execution_count": 12,
   "metadata": {},
   "outputs": [
    {
     "data": {
      "image/png": "[encoded data removed]",
      "text/plain": [
       "<Figure size 432x432 with 1 Axes>"
      ]
     },
     "metadata": {},
     "output_type": "display_data"
    }
   ],
   "source": [
    "def plot_roc(y_test, y_pred, labels):\n",
    "    for x, label in enumerate(labels):        \n",
    "        fpr, tpr, _ = roc_curve(y_test[:, x], y_pred[:, x])\n",
    "        plt.plot(fpr, tpr, label='{0} tagger, AUC = {1:.1f}'.format(label, auc(fpr, tpr)*100.), linestyle='-')\n",
    "    #plt.semilogy()\n",
    "    plt.ylabel(\"Signal Efficiency\")\n",
    "    plt.xlabel(\"Background Efficiency\")\n",
    "    #plt.ylim(0.001, 1)\n",
    "    plt.grid(True)\n",
    "    plt.legend(loc='best')  \n",
    "    \n",
    "plt.figure(figsize=(6, 6))\n",
    "plot_roc(Y_test, Y_pysr, LE.classes_)"
   ]
  },
  {
   "cell_type": "code",
   "execution_count": 14,
   "metadata": {},
   "outputs": [
    {
     "data": {
      "image/png": "[encoded data removed]",
      "text/plain": [
       "<Figure size 432x288 with 1 Axes>"
      ]
     },
     "metadata": {},
     "output_type": "display_data"
    },
    {
     "data": {
      "image/png": "[encoded data removed]",
      "text/plain": [
       "<Figure size 432x288 with 1 Axes>"
      ]
     },
     "metadata": {},
     "output_type": "display_data"
    },
    {
     "data": {
      "image/png": "[encoded data removed]",
      "text/plain": [
       "<Figure size 432x288 with 1 Axes>"
      ]
     },
     "metadata": {},
     "output_type": "display_data"
    },
    {
     "data": {
      "image/png": "[encoded data removed]",
      "text/plain": [
       "<Figure size 432x288 with 1 Axes>"
      ]
     },
     "metadata": {},
     "output_type": "display_data"
    },
    {
     "data": {
      "image/png": "[encoded data removed]",
      "text/plain": [
       "<Figure size 432x288 with 1 Axes>"
      ]
     },
     "metadata": {},
     "output_type": "display_data"
    }
   ],
   "source": [
    "nbins=20\n",
    "rmin=-1.5\n",
    "rmax=2\n",
    "plt.hist(Y_pysr[Y_test[:,0]==1,0], bins=nbins, range=(rmin,rmax), density=1, histtype='stepfilled', alpha=0.2, label='g tagger', log=True)\n",
    "plt.hist(Y_pysr[Y_test[:,0]==1,1], bins=nbins, range=(rmin,rmax), density=1, histtype='step', label='q tagger')\n",
    "plt.hist(Y_pysr[Y_test[:,0]==1,2], bins=nbins, range=(rmin,rmax), density=1, histtype='step', label='t tagger')\n",
    "plt.hist(Y_pysr[Y_test[:,0]==1,3], bins=nbins, range=(rmin,rmax), density=1, histtype='step', label='w tagger')\n",
    "plt.hist(Y_pysr[Y_test[:,0]==1,4], bins=nbins, range=(rmin,rmax), density=1, histtype='step', label='z tagger')\n",
    "plt.legend(loc='best')\n",
    "plt.title('MC truth gluon-jet')\n",
    "plt.xlabel('score')\n",
    "plt.show()\n",
    "\n",
    "plt.hist(Y_pysr[Y_test[:,1]==1,0], bins=nbins, range=(rmin,rmax), density=1, histtype='step', label='g tagger', log=True)\n",
    "plt.hist(Y_pysr[Y_test[:,1]==1,1], bins=nbins, range=(rmin,rmax), density=1, histtype='stepfilled', alpha=0.2, label='q tagger')\n",
    "plt.hist(Y_pysr[Y_test[:,1]==1,2], bins=nbins, range=(rmin,rmax), density=1, histtype='step', label='t tagger')\n",
    "plt.hist(Y_pysr[Y_test[:,1]==1,3], bins=nbins, range=(rmin,rmax), density=1, histtype='step', label='w tagger')\n",
    "plt.hist(Y_pysr[Y_test[:,1]==1,4], bins=nbins, range=(rmin,rmax), density=1, histtype='step', label='z tagger')\n",
    "plt.legend(loc='best')\n",
    "plt.title('MC truth quark-jet')\n",
    "plt.xlabel('score')\n",
    "plt.show()\n",
    "\n",
    "plt.hist(Y_pysr[Y_test[:,2]==1,0], bins=nbins, range=(rmin,rmax), density=1, histtype='step', label='g tagger', log=True)\n",
    "plt.hist(Y_pysr[Y_test[:,2]==1,1], bins=nbins, range=(rmin,rmax), density=1, histtype='step', label='q tagger')\n",
    "plt.hist(Y_pysr[Y_test[:,2]==1,2], bins=nbins, range=(rmin,rmax), density=1, histtype='stepfilled', alpha=0.2, label='t tagger')\n",
    "plt.hist(Y_pysr[Y_test[:,2]==1,3], bins=nbins, range=(rmin,rmax), density=1, histtype='step', label='w tagger')\n",
    "plt.hist(Y_pysr[Y_test[:,2]==1,4], bins=nbins, range=(rmin,rmax), density=1, histtype='step', label='z tagger')\n",
    "plt.legend(loc='best')\n",
    "plt.title('MC truth top-jet')\n",
    "plt.xlabel('score')\n",
    "plt.show()\n",
    "\n",
    "plt.hist(Y_pysr[Y_test[:,3]==1,0], bins=nbins, range=(rmin,rmax), density=1, histtype='step', label='g tagger', log=True)\n",
    "plt.hist(Y_pysr[Y_test[:,3]==1,1], bins=nbins, range=(rmin,rmax), density=1, histtype='step', label='q tagger')\n",
    "plt.hist(Y_pysr[Y_test[:,3]==1,2], bins=nbins, range=(rmin,rmax), density=1, histtype='step', label='t tagger')\n",
    "plt.hist(Y_pysr[Y_test[:,3]==1,3], bins=nbins, range=(rmin,rmax), density=1, histtype='stepfilled', alpha=0.2, label='w tagger')\n",
    "plt.hist(Y_pysr[Y_test[:,3]==1,4], bins=nbins, range=(rmin,rmax), density=1, histtype='step', label='z tagger')\n",
    "plt.legend(loc='best')\n",
    "plt.title('MC truth W-jet')\n",
    "plt.xlabel('score')\n",
    "plt.show()\n",
    "\n",
    "plt.hist(Y_pysr[Y_test[:,4]==1,0], bins=nbins, range=(rmin,rmax), density=1, histtype='step', label='g tagger', log=True)\n",
    "plt.hist(Y_pysr[Y_test[:,4]==1,1], bins=nbins, range=(rmin,rmax), density=1, histtype='step', label='q tagger')\n",
    "plt.hist(Y_pysr[Y_test[:,4]==1,2], bins=nbins, range=(rmin,rmax), density=1, histtype='step', label='t tagger')\n",
    "plt.hist(Y_pysr[Y_test[:,4]==1,3], bins=nbins, range=(rmin,rmax), density=1, histtype='step', label='w tagger')\n",
    "plt.hist(Y_pysr[Y_test[:,4]==1,4], bins=nbins, range=(rmin,rmax), density=1, histtype='stepfilled', alpha=0.2, label='z tagger')\n",
    "plt.legend(loc='best')\n",
    "plt.title('MC truth Z-jet')\n",
    "plt.xlabel('score')\n",
    "plt.show()"
   ]
  },
  {
   "cell_type": "code",
   "execution_count": null,
   "metadata": {},
   "outputs": [],
   "source": []
  }
 ],
 "metadata": {
  "kernelspec": {
   "display_name": "Python 3 (ipykernel)",
   "language": "python",
   "name": "python3"
  },
  "language_info": {
   "codemirror_mode": {
    "name": "ipython",
    "version": 3
   },
   "file_extension": ".py",
   "mimetype": "text/x-python",
   "name": "python",
   "nbconvert_exporter": "python",
   "pygments_lexer": "ipython3",
   "version": "3.9.12"
  }
 },
 "nbformat": 4,
 "nbformat_minor": 4
}
