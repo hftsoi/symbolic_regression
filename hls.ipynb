{
 "cells": [
  {
   "cell_type": "code",
   "execution_count": 1,
   "id": "ede2226f",
   "metadata": {},
   "outputs": [
    {
     "name": "stderr",
     "output_type": "stream",
     "text": [
      "/afs/cern.ch/work/h/htsoi/miniconda3/envs/sr/lib/python3.9/site-packages/hls4ml/converters/__init__.py:16: UserWarning: WARNING: Pytorch converter is not enabled!\n",
      "  warnings.warn(\"WARNING: Pytorch converter is not enabled!\")\n"
     ]
    }
   ],
   "source": [
    "import numpy as np\n",
    "import sympy\n",
    "import hls4ml"
   ]
  },
  {
   "cell_type": "markdown",
   "id": "846e710b",
   "metadata": {},
   "source": [
    "# Pass trained expressions to hls4ml converter and compile"
   ]
  },
  {
   "cell_type": "code",
   "execution_count": 2,
   "id": "a50ffcae",
   "metadata": {},
   "outputs": [],
   "source": [
    "expr_str = ['x0+x1',\n",
    "            '(x0+x1)**2',\n",
    "            'exp(x2+x3)',\n",
    "            'x3**3',\n",
    "            'x4*x5*x5']\n",
    "expr = []\n",
    "for i in range(5):\n",
    "    expr.append(sympy.parsing.sympy_parser.parse_expr(expr_str[i]))"
   ]
  },
  {
   "cell_type": "code",
   "execution_count": 3,
   "id": "024c2778",
   "metadata": {
    "scrolled": false
   },
   "outputs": [
    {
     "name": "stdout",
     "output_type": "stream",
     "text": [
      "Writing HLS project\n",
      "Done\n",
      "Writing HLS project\n",
      "Done\n"
     ]
    }
   ],
   "source": [
    "hls_model = hls4ml.converters.convert_from_symbolic_expression(expr,\n",
    "                                                               n_symbols=6,\n",
    "                                                               output_dir='my-hls-test',\n",
    "                                                               precision='ap_fixed<16, 10>')\n",
    "\n",
    "hls_model.write()\n",
    "hls_model.compile()"
   ]
  },
  {
   "cell_type": "code",
   "execution_count": 4,
   "id": "8b24372d",
   "metadata": {},
   "outputs": [
    {
     "data": {
      "text/plain": [
       "array([  3.   ,   4.   ,  72.625,  64.   , 180.   ], dtype=float32)"
      ]
     },
     "execution_count": 4,
     "metadata": {},
     "output_type": "execute_result"
    }
   ],
   "source": [
    "hls_model.predict(np.array([1,2,3,4,5,6], dtype=np.float32))"
   ]
  },
  {
   "cell_type": "code",
   "execution_count": 5,
   "id": "123a676b",
   "metadata": {},
   "outputs": [
    {
     "name": "stdout",
     "output_type": "stream",
     "text": [
      "//\r\n",
      "//    rfnoc-hls-neuralnet: Vivado HLS code for neural-net building blocks\r\n",
      "//\r\n",
      "//    Copyright (C) 2017 EJ Kreinar\r\n",
      "//\r\n",
      "//    This program is free software: you can redistribute it and/or modify\r\n",
      "//    it under the terms of the GNU General Public License as published by\r\n",
      "//    the Free Software Foundation, either version 3 of the License, or\r\n",
      "//    (at your option) any later version.\r\n",
      "//\r\n",
      "//    This program is distributed in the hope that it will be useful,\r\n",
      "//    but WITHOUT ANY WARRANTY; without even the implied warranty of\r\n",
      "//    MERCHANTABILITY or FITNESS FOR A PARTICULAR PURPOSE.  See the\r\n",
      "//    GNU General Public License for more details.\r\n",
      "//\r\n",
      "//    You should have received a copy of the GNU General Public License\r\n",
      "//    along with this program.  If not, see <http://www.gnu.org/licenses/>.\r\n",
      "//\r\n",
      "#include <iostream>\r\n",
      "\r\n",
      "#include \"myproject.h\"\r\n",
      "#include \"parameters.h\"\r\n",
      "\r\n",
      "void myproject(\r\n",
      "    input_t x[N_INPUT_1_1],\r\n",
      "    result_t y[N_OUTPUTS_2]\r\n",
      ") {\r\n",
      "\r\n",
      "    //hls-fpga-machine-learning insert IO\r\n",
      "    #pragma HLS ARRAY_RESHAPE variable=x complete dim=0\r\n",
      "    #pragma HLS ARRAY_PARTITION variable=y complete dim=0\r\n",
      "    #pragma HLS INTERFACE ap_vld port=x,y \r\n",
      "    #pragma HLS PIPELINE \r\n",
      "\r\n",
      "#ifndef __SYNTHESIS__\r\n",
      "    static bool loaded_weights = false;\r\n",
      "    if (!loaded_weights) {\r\n",
      "        //hls-fpga-machine-learning insert load weights\r\n",
      "        loaded_weights = true;\r\n",
      "    }\r\n",
      "#endif\r\n",
      "\r\n",
      "    // ****************************************\r\n",
      "    // NETWORK INSTANTIATION\r\n",
      "    // ****************************************\r\n",
      "\r\n",
      "    //hls-fpga-machine-learning insert layers\r\n",
      "\r\n",
      "// expr1\r\n",
      "    y[0] = x[0] + x[1];\r\n",
      "    y[1] = x[1]*x[1];\r\n",
      "    y[2] = hls::exp(x[2] + x[3]);\r\n",
      "    y[3] = x[3]*x[3]*x[3];\r\n",
      "    y[4] = x[4]*x[5]*x[5];\r\n",
      "\r\n",
      "}\r\n"
     ]
    }
   ],
   "source": [
    "!cat my-hls-test/firmware/myproject.cpp "
   ]
  },
  {
   "cell_type": "markdown",
   "id": "08795fca",
   "metadata": {},
   "source": [
    "# Compare PySR and hls4ml accuracy"
   ]
  },
  {
   "cell_type": "code",
   "execution_count": null,
   "id": "f2bcc39a",
   "metadata": {},
   "outputs": [],
   "source": []
  },
  {
   "cell_type": "markdown",
   "id": "7beb92ea",
   "metadata": {},
   "source": [
    "# Run synthesis from command line"
   ]
  },
  {
   "cell_type": "code",
   "execution_count": null,
   "id": "b88fa599",
   "metadata": {},
   "outputs": [],
   "source": [
    "source /data/tools/Xilinx/Vivado/2020.1/settings64.sh\n",
    "source /data/setup_xilinx_lic.sh"
   ]
  },
  {
   "cell_type": "code",
   "execution_count": null,
   "id": "96813a51",
   "metadata": {},
   "outputs": [],
   "source": [
    "!vivado_hls -f build_prj.tcl \"reset=1 synth=1 csim=0 cosim=0 validation=0 export=0 vsynth=0\""
   ]
  },
  {
   "cell_type": "code",
   "execution_count": 6,
   "id": "53c3403d",
   "metadata": {
    "scrolled": false
   },
   "outputs": [
    {
     "name": "stdout",
     "output_type": "stream",
     "text": [
      "\r\n",
      "\r\n",
      "================================================================\r\n",
      "== Vivado HLS Report for 'myproject'\r\n",
      "================================================================\r\n",
      "* Date:           Sat Nov  5 08:32:23 2022\r\n",
      "\r\n",
      "* Version:        2020.1 (Build 2897737 on Wed May 27 20:21:37 MDT 2020)\r\n",
      "* Project:        myproject_prj\r\n",
      "* Solution:       solution1\r\n",
      "* Product family: virtexuplus\r\n",
      "* Target device:  xcvu9p-flga2577-2-e\r\n",
      "\r\n",
      "\r\n",
      "================================================================\r\n",
      "== Performance Estimates\r\n",
      "================================================================\r\n",
      "+ Timing: \r\n",
      "    * Summary: \r\n",
      "    +--------+---------+----------+------------+\r\n",
      "    |  Clock |  Target | Estimated| Uncertainty|\r\n",
      "    +--------+---------+----------+------------+\r\n",
      "    |ap_clk  | 5.00 ns | 4.094 ns |   0.62 ns  |\r\n",
      "    +--------+---------+----------+------------+\r\n",
      "\r\n",
      "+ Latency: \r\n",
      "    * Summary: \r\n",
      "    +---------+---------+-----------+-----------+-----+-----+----------+\r\n",
      "    |  Latency (cycles) |   Latency (absolute)  |  Interval | Pipeline |\r\n",
      "    |   min   |   max   |    min    |    max    | min | max |   Type   |\r\n",
      "    +---------+---------+-----------+-----------+-----+-----+----------+\r\n",
      "    |        2|        2| 10.000 ns | 10.000 ns |    1|    1| function |\r\n",
      "    +---------+---------+-----------+-----------+-----+-----+----------+\r\n",
      "\r\n",
      "    + Detail: \r\n",
      "        * Instance: \r\n",
      "        +------------------------+-------------+---------+---------+-----------+-----------+-----+-----+----------+\r\n",
      "        |                        |             |  Latency (cycles) |   Latency (absolute)  |  Interval | Pipeline |\r\n",
      "        |        Instance        |    Module   |   min   |   max   |    min    |    max    | min | max |   Type   |\r\n",
      "        +------------------------+-------------+---------+---------+-----------+-----------+-----+-----+----------+\r\n",
      "        |grp_exp_17_11_s_fu_117  |exp_17_11_s  |        2|        2| 10.000 ns | 10.000 ns |    1|    1| function |\r\n",
      "        +------------------------+-------------+---------+---------+-----------+-----------+-----+-----+----------+\r\n",
      "\r\n",
      "        * Loop: \r\n",
      "        N/A\r\n",
      "\r\n",
      "\r\n",
      "\r\n",
      "================================================================\r\n",
      "== Utilization Estimates\r\n",
      "================================================================\r\n",
      "* Summary: \r\n",
      "+---------------------+---------+-------+---------+---------+-----+\r\n",
      "|         Name        | BRAM_18K| DSP48E|    FF   |   LUT   | URAM|\r\n",
      "+---------------------+---------+-------+---------+---------+-----+\r\n",
      "|DSP                  |        -|      5|        -|        -|    -|\r\n",
      "|Expression           |        -|      -|        0|       53|    -|\r\n",
      "|FIFO                 |        -|      -|        -|        -|    -|\r\n",
      "|Instance             |        0|      2|      107|      214|    -|\r\n",
      "|Memory               |        -|      -|        -|        -|    -|\r\n",
      "|Multiplexer          |        -|      -|        -|       36|    -|\r\n",
      "|Register             |        -|      -|      308|        -|    -|\r\n",
      "+---------------------+---------+-------+---------+---------+-----+\r\n",
      "|Total                |        0|      7|      415|      303|    0|\r\n",
      "+---------------------+---------+-------+---------+---------+-----+\r\n",
      "|Available SLR        |     1440|   2280|   788160|   394080|  320|\r\n",
      "+---------------------+---------+-------+---------+---------+-----+\r\n",
      "|Utilization SLR (%)  |        0|   ~0  |    ~0   |    ~0   |    0|\r\n",
      "+---------------------+---------+-------+---------+---------+-----+\r\n",
      "|Available            |     4320|   6840|  2364480|  1182240|  960|\r\n",
      "+---------------------+---------+-------+---------+---------+-----+\r\n",
      "|Utilization (%)      |        0|   ~0  |    ~0   |    ~0   |    0|\r\n",
      "+---------------------+---------+-------+---------+---------+-----+\r\n",
      "\r\n",
      "+ Detail: \r\n",
      "    * Instance: \r\n",
      "    +------------------------+-------------+---------+-------+-----+-----+-----+\r\n",
      "    |        Instance        |    Module   | BRAM_18K| DSP48E|  FF | LUT | URAM|\r\n",
      "    +------------------------+-------------+---------+-------+-----+-----+-----+\r\n",
      "    |grp_exp_17_11_s_fu_117  |exp_17_11_s  |        0|      2|  107|  214|    0|\r\n",
      "    +------------------------+-------------+---------+-------+-----+-----+-----+\r\n",
      "    |Total                   |             |        0|      2|  107|  214|    0|\r\n",
      "    +------------------------+-------------+---------+-------+-----+-----+-----+\r\n",
      "\r\n",
      "    * DSP48E: \r\n",
      "    +-------------------------------------+----------------------------------+-----------+\r\n",
      "    |               Instance              |              Module              | Expression|\r\n",
      "    +-------------------------------------+----------------------------------+-----------+\r\n",
      "    |myproject_mul_mul_16s_16s_22_1_1_U7  |myproject_mul_mul_16s_16s_22_1_1  |  i0 * i0  |\r\n",
      "    |myproject_mul_mul_16s_16s_28_1_1_U4  |myproject_mul_mul_16s_16s_28_1_1  |  i0 * i1  |\r\n",
      "    |myproject_mul_mul_16s_16s_28_1_1_U5  |myproject_mul_mul_16s_16s_28_1_1  |  i0 * i0  |\r\n",
      "    |myproject_mul_mul_16s_28s_28_1_1_U6  |myproject_mul_mul_16s_28s_28_1_1  |  i0 * i1  |\r\n",
      "    |myproject_mul_mul_16s_28s_28_1_1_U8  |myproject_mul_mul_16s_28s_28_1_1  |  i0 * i1  |\r\n",
      "    +-------------------------------------+----------------------------------+-----------+\r\n",
      "\r\n",
      "    * Memory: \r\n",
      "    N/A\r\n",
      "\r\n",
      "    * FIFO: \r\n",
      "    N/A\r\n",
      "\r\n",
      "    * Expression: \r\n",
      "    +----------------------------------+----------+-------+---+----+------------+------------+\r\n",
      "    |           Variable Name          | Operation| DSP48E| FF| LUT| Bitwidth P0| Bitwidth P1|\r\n",
      "    +----------------------------------+----------+-------+---+----+------------+------------+\r\n",
      "    |grp_exp_17_11_s_fu_117_x_V        |     +    |      0|  0|  24|          17|          17|\r\n",
      "    |y_0_V                             |     +    |      0|  0|  23|          16|          16|\r\n",
      "    |ap_block_pp0_stage0_01001         |    and   |      0|  0|   2|           1|           1|\r\n",
      "    |ap_block_state1_pp0_stage0_iter0  |    or    |      0|  0|   2|           1|           1|\r\n",
      "    |ap_enable_pp0                     |    xor   |      0|  0|   2|           1|           2|\r\n",
      "    +----------------------------------+----------+-------+---+----+------------+------------+\r\n",
      "    |Total                             |          |      0|  0|  53|          36|          37|\r\n",
      "    +----------------------------------+----------+-------+---+----+------------+------------+\r\n",
      "\r\n",
      "    * Multiplexer: \r\n",
      "    +-------------------+----+-----------+-----+-----------+\r\n",
      "    |        Name       | LUT| Input Size| Bits| Total Bits|\r\n",
      "    +-------------------+----+-----------+-----+-----------+\r\n",
      "    |x_V_ap_vld_in_sig  |   9|          2|    1|          2|\r\n",
      "    |x_V_ap_vld_preg    |   9|          2|    1|          2|\r\n",
      "    |x_V_blk_n          |   9|          2|    1|          2|\r\n",
      "    |x_V_in_sig         |   9|          2|   96|        192|\r\n",
      "    +-------------------+----+-----------+-----+-----------+\r\n",
      "    |Total              |  36|          8|   99|        198|\r\n",
      "    +-------------------+----+-----------+-----+-----------+\r\n",
      "\r\n",
      "    * Register: \r\n",
      "    +--------------------------------+----+----+-----+-----------+\r\n",
      "    |              Name              | FF | LUT| Bits| Const Bits|\r\n",
      "    +--------------------------------+----+----+-----+-----------+\r\n",
      "    |ap_CS_fsm                       |   1|   0|    1|          0|\r\n",
      "    |ap_enable_reg_pp0_iter1         |   1|   0|    1|          0|\r\n",
      "    |ap_enable_reg_pp0_iter2         |   1|   0|    1|          0|\r\n",
      "    |mul_ln1116_1_reg_294            |  28|   0|   28|          0|\r\n",
      "    |mul_ln1116_reg_304              |  28|   0|   28|          0|\r\n",
      "    |p_Val2_1_reg_278                |  16|   0|   16|          0|\r\n",
      "    |p_Val2_1_reg_278_pp0_iter1_reg  |  16|   0|   16|          0|\r\n",
      "    |p_Val2_4_reg_284                |  16|   0|   16|          0|\r\n",
      "    |p_Val2_s_reg_273                |  16|   0|   16|          0|\r\n",
      "    |p_Val2_s_reg_273_pp0_iter1_reg  |  16|   0|   16|          0|\r\n",
      "    |sext_ln1116_2_reg_289           |  28|   0|   28|          0|\r\n",
      "    |sext_ln1118_reg_299             |  28|   0|   28|          0|\r\n",
      "    |trunc_ln708_2_reg_309           |  16|   0|   16|          0|\r\n",
      "    |x_V_ap_vld_preg                 |   1|   0|    1|          0|\r\n",
      "    |x_V_preg                        |  96|   0|   96|          0|\r\n",
      "    +--------------------------------+----+----+-----+-----------+\r\n",
      "    |Total                           | 308|   0|  308|          0|\r\n",
      "    +--------------------------------+----+----+-----+-----------+\r\n",
      "\r\n",
      "\r\n",
      "\r\n",
      "================================================================\r\n",
      "== Interface\r\n",
      "================================================================\r\n",
      "* Summary: \r\n",
      "+--------------+-----+-----+------------+--------------+--------------+\r\n",
      "|   RTL Ports  | Dir | Bits|  Protocol  | Source Object|    C Type    |\r\n",
      "+--------------+-----+-----+------------+--------------+--------------+\r\n",
      "|ap_clk        |  in |    1| ap_ctrl_hs |   myproject  | return value |\r\n",
      "|ap_rst        |  in |    1| ap_ctrl_hs |   myproject  | return value |\r\n",
      "|ap_start      |  in |    1| ap_ctrl_hs |   myproject  | return value |\r\n",
      "|ap_done       | out |    1| ap_ctrl_hs |   myproject  | return value |\r\n",
      "|ap_idle       | out |    1| ap_ctrl_hs |   myproject  | return value |\r\n",
      "|ap_ready      | out |    1| ap_ctrl_hs |   myproject  | return value |\r\n",
      "|x_V_ap_vld    |  in |    1|   ap_vld   |      x_V     |    pointer   |\r\n",
      "|x_V           |  in |   96|   ap_vld   |      x_V     |    pointer   |\r\n",
      "|y_0_V         | out |   16|   ap_vld   |     y_0_V    |    pointer   |\r\n",
      "|y_0_V_ap_vld  | out |    1|   ap_vld   |     y_0_V    |    pointer   |\r\n",
      "|y_1_V         | out |   16|   ap_vld   |     y_1_V    |    pointer   |\r\n",
      "|y_1_V_ap_vld  | out |    1|   ap_vld   |     y_1_V    |    pointer   |\r\n",
      "|y_2_V         | out |   16|   ap_vld   |     y_2_V    |    pointer   |\r\n",
      "|y_2_V_ap_vld  | out |    1|   ap_vld   |     y_2_V    |    pointer   |\r\n",
      "|y_3_V         | out |   16|   ap_vld   |     y_3_V    |    pointer   |\r\n",
      "|y_3_V_ap_vld  | out |    1|   ap_vld   |     y_3_V    |    pointer   |\r\n",
      "|y_4_V         | out |   16|   ap_vld   |     y_4_V    |    pointer   |\r\n",
      "|y_4_V_ap_vld  | out |    1|   ap_vld   |     y_4_V    |    pointer   |\r\n",
      "+--------------+-----+-----+------------+--------------+--------------+\r\n",
      "\r\n"
     ]
    }
   ],
   "source": [
    "#hls4ml.report.read_vivado_report('my-hls-test/')\n",
    "!cat my-hls-test/myproject_prj/solution1/syn/report/myproject_csynth.rpt"
   ]
  },
  {
   "cell_type": "code",
   "execution_count": null,
   "id": "c7946748",
   "metadata": {},
   "outputs": [],
   "source": []
  }
 ],
 "metadata": {
  "kernelspec": {
   "display_name": "Python 3 (ipykernel)",
   "language": "python",
   "name": "python3"
  },
  "language_info": {
   "codemirror_mode": {
    "name": "ipython",
    "version": 3
   },
   "file_extension": ".py",
   "mimetype": "text/x-python",
   "name": "python",
   "nbconvert_exporter": "python",
   "pygments_lexer": "ipython3",
   "version": "3.9.12"
  }
 },
 "nbformat": 4,
 "nbformat_minor": 5
}
